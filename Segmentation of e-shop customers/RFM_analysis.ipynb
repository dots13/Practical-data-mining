{
 "cells": [
  {
   "cell_type": "code",
   "execution_count": 1,
   "metadata": {},
   "outputs": [],
   "source": [
    "import pandas as pd\n",
    "import numpy as np\n",
    "import matplotlib.pyplot as plt"
   ]
  },
  {
   "cell_type": "code",
   "execution_count": 2,
   "metadata": {
    "scrolled": true
   },
   "outputs": [],
   "source": [
    "from datetime import datetime\n",
    "from sklearn.cluster import KMeans\n",
    "import matplotlib\n",
    "from sklearn.preprocessing import StandardScaler\n",
    "from dateutil import relativedelta"
   ]
  },
  {
   "cell_type": "code",
   "execution_count": 3,
   "metadata": {},
   "outputs": [],
   "source": [
    "df = pd.read_csv(\"eshop.csv\")"
   ]
  },
  {
   "cell_type": "code",
   "execution_count": 4,
   "metadata": {},
   "outputs": [
    {
     "data": {
      "text/html": [
       "<div>\n",
       "<style scoped>\n",
       "    .dataframe tbody tr th:only-of-type {\n",
       "        vertical-align: middle;\n",
       "    }\n",
       "\n",
       "    .dataframe tbody tr th {\n",
       "        vertical-align: top;\n",
       "    }\n",
       "\n",
       "    .dataframe thead th {\n",
       "        text-align: right;\n",
       "    }\n",
       "</style>\n",
       "<table border=\"1\" class=\"dataframe\">\n",
       "  <thead>\n",
       "    <tr style=\"text-align: right;\">\n",
       "      <th></th>\n",
       "      <th>Customer ID</th>\n",
       "      <th>Date</th>\n",
       "      <th>Subtotal</th>\n",
       "      <th>Country</th>\n",
       "    </tr>\n",
       "  </thead>\n",
       "  <tbody>\n",
       "    <tr>\n",
       "      <th>0</th>\n",
       "      <td>34</td>\n",
       "      <td>6/21/2007</td>\n",
       "      <td>86.0</td>\n",
       "      <td>Czech Republic</td>\n",
       "    </tr>\n",
       "    <tr>\n",
       "      <th>1</th>\n",
       "      <td>38</td>\n",
       "      <td>6/27/2007</td>\n",
       "      <td>38.4</td>\n",
       "      <td>Czech Republic</td>\n",
       "    </tr>\n",
       "    <tr>\n",
       "      <th>2</th>\n",
       "      <td>47</td>\n",
       "      <td>7/2/2007</td>\n",
       "      <td>53.5</td>\n",
       "      <td>Slovakia</td>\n",
       "    </tr>\n",
       "    <tr>\n",
       "      <th>3</th>\n",
       "      <td>61</td>\n",
       "      <td>7/14/2007</td>\n",
       "      <td>7.0</td>\n",
       "      <td>Czech Republic</td>\n",
       "    </tr>\n",
       "    <tr>\n",
       "      <th>4</th>\n",
       "      <td>78</td>\n",
       "      <td>7/21/2007</td>\n",
       "      <td>55.5</td>\n",
       "      <td>Czech Republic</td>\n",
       "    </tr>\n",
       "  </tbody>\n",
       "</table>\n",
       "</div>"
      ],
      "text/plain": [
       "   Customer ID       Date  Subtotal         Country\n",
       "0           34  6/21/2007      86.0  Czech Republic\n",
       "1           38  6/27/2007      38.4  Czech Republic\n",
       "2           47   7/2/2007      53.5        Slovakia\n",
       "3           61  7/14/2007       7.0  Czech Republic\n",
       "4           78  7/21/2007      55.5  Czech Republic"
      ]
     },
     "execution_count": 4,
     "metadata": {},
     "output_type": "execute_result"
    }
   ],
   "source": [
    "df.head()"
   ]
  },
  {
   "cell_type": "markdown",
   "metadata": {},
   "source": [
    "RECENCY (R): Time since last purchase\n",
    "FREQUENCY (F): Total number of purchases\n",
    "MONETARY VALUE (M): Total monetary valueCLAY"
   ]
  },
  {
   "cell_type": "code",
   "execution_count": 5,
   "metadata": {},
   "outputs": [],
   "source": [
    "df_group = df.groupby('Customer ID').agg({'Date': lambda x: x.max(), # Recency\n",
    "                                        'Customer ID': lambda x: len(x),# Frequency\n",
    "                                        'Subtotal': lambda x: x.sum()}) \n",
    "df_group.rename(index=str, columns={\"Date\": \"Recency\", \"Customer ID\": \"Frequency\", \"Subtotal\": \"Total\"}, inplace= True)"
   ]
  },
  {
   "cell_type": "markdown",
   "metadata": {},
   "source": [
    "Date conversion. I subtract the last date so we could work with the data as with \"fresh\"."
   ]
  },
  {
   "cell_type": "code",
   "execution_count": 6,
   "metadata": {},
   "outputs": [],
   "source": [
    "df_group['Recency'] = pd.to_datetime(df_group['Recency'],infer_datetime_format=True)\n",
    "df_group['Recency'] = df_group['Recency'].apply(lambda x: (datetime.today() - x).days)\n",
    "min_date = df_group['Recency'].min()\n",
    "df_group['Recency'] = df_group['Recency'].apply(lambda x: x-min_date+1)"
   ]
  },
  {
   "cell_type": "markdown",
   "metadata": {},
   "source": [
    "Let's normalize the data using StandardScaler."
   ]
  },
  {
   "cell_type": "code",
   "execution_count": 7,
   "metadata": {},
   "outputs": [
    {
     "name": "stderr",
     "output_type": "stream",
     "text": [
      "c:\\users\\анастасия\\appdata\\local\\programs\\python\\python35\\lib\\site-packages\\sklearn\\preprocessing\\data.py:625: DataConversionWarning: Data with input dtype int64, float64 were all converted to float64 by StandardScaler.\n",
      "  return self.partial_fit(X, y)\n",
      "c:\\users\\анастасия\\appdata\\local\\programs\\python\\python35\\lib\\site-packages\\ipykernel_launcher.py:3: DataConversionWarning: Data with input dtype int64, float64 were all converted to float64 by StandardScaler.\n",
      "  This is separate from the ipykernel package so we can avoid doing imports until\n"
     ]
    }
   ],
   "source": [
    "scaler = StandardScaler()\n",
    "scaler.fit(df_group)\n",
    "df_normalized = scaler.transform(df_group)"
   ]
  },
  {
   "cell_type": "markdown",
   "metadata": {},
   "source": [
    "Applying K Means algorithm with a different number of clusters."
   ]
  },
  {
   "cell_type": "code",
   "execution_count": 8,
   "metadata": {},
   "outputs": [],
   "source": [
    "k = 10\n",
    "ssd = []\n",
    "n_iter = []\n",
    "for i in range(1,k):\n",
    "    kmeans = KMeans(n_clusters=i, random_state=0)\n",
    "    kmeans.fit(df_normalized)\n",
    "    # inertia_ - sum of squared distances of samples to their closest cluster center.\n",
    "    ssd.append(kmeans.inertia_)\n",
    "    # n_iter_ - number of iterations run.\n",
    "    n_iter.append(kmeans.n_iter_)"
   ]
  },
  {
   "cell_type": "code",
   "execution_count": 9,
   "metadata": {},
   "outputs": [
    {
     "data": {
      "image/png": "[encoded data removed]",
      "text/plain": [
       "<Figure size 1080x720 with 2 Axes>"
      ]
     },
     "metadata": {
      "needs_background": "light"
     },
     "output_type": "display_data"
    }
   ],
   "source": [
    "plt.figure(figsize=(15,10))\n",
    "plt.subplot(121)\n",
    "plt.plot(range(1,k), ssd)\n",
    "plt.xlabel('Cluster number')\n",
    "plt.ylabel('Sum of squared distances')\n",
    "plt.subplot(122)\n",
    "plt.plot(range(1,k), n_iter)\n",
    "plt.xlabel('Cluster number')\n",
    "plt.ylabel('Number of iterations run')\n",
    "plt.show()"
   ]
  },
  {
   "cell_type": "markdown",
   "metadata": {},
   "source": [
    "As can be seen from the graphs the optimal number of clusters: 5"
   ]
  },
  {
   "cell_type": "code",
   "execution_count": 10,
   "metadata": {},
   "outputs": [
    {
     "data": {
      "text/html": [
       "<div>\n",
       "<style scoped>\n",
       "    .dataframe tbody tr th:only-of-type {\n",
       "        vertical-align: middle;\n",
       "    }\n",
       "\n",
       "    .dataframe tbody tr th {\n",
       "        vertical-align: top;\n",
       "    }\n",
       "\n",
       "    .dataframe thead tr th {\n",
       "        text-align: left;\n",
       "    }\n",
       "\n",
       "    .dataframe thead tr:last-of-type th {\n",
       "        text-align: right;\n",
       "    }\n",
       "</style>\n",
       "<table border=\"1\" class=\"dataframe\">\n",
       "  <thead>\n",
       "    <tr>\n",
       "      <th></th>\n",
       "      <th colspan=\"2\" halign=\"left\">Total</th>\n",
       "      <th colspan=\"2\" halign=\"left\">Recency</th>\n",
       "      <th colspan=\"2\" halign=\"left\">Frequency</th>\n",
       "    </tr>\n",
       "    <tr>\n",
       "      <th></th>\n",
       "      <th>median</th>\n",
       "      <th>count</th>\n",
       "      <th>median</th>\n",
       "      <th>count</th>\n",
       "      <th>median</th>\n",
       "      <th>count</th>\n",
       "    </tr>\n",
       "    <tr>\n",
       "      <th>clusters</th>\n",
       "      <th></th>\n",
       "      <th></th>\n",
       "      <th></th>\n",
       "      <th></th>\n",
       "      <th></th>\n",
       "      <th></th>\n",
       "    </tr>\n",
       "  </thead>\n",
       "  <tbody>\n",
       "    <tr>\n",
       "      <th>0</th>\n",
       "      <td>54.240</td>\n",
       "      <td>5604</td>\n",
       "      <td>1783</td>\n",
       "      <td>5604</td>\n",
       "      <td>1.0</td>\n",
       "      <td>5604</td>\n",
       "    </tr>\n",
       "    <tr>\n",
       "      <th>1</th>\n",
       "      <td>61.250</td>\n",
       "      <td>6215</td>\n",
       "      <td>580</td>\n",
       "      <td>6215</td>\n",
       "      <td>1.0</td>\n",
       "      <td>6215</td>\n",
       "    </tr>\n",
       "    <tr>\n",
       "      <th>2</th>\n",
       "      <td>510.100</td>\n",
       "      <td>847</td>\n",
       "      <td>962</td>\n",
       "      <td>847</td>\n",
       "      <td>5.0</td>\n",
       "      <td>847</td>\n",
       "    </tr>\n",
       "    <tr>\n",
       "      <th>3</th>\n",
       "      <td>7322.305</td>\n",
       "      <td>12</td>\n",
       "      <td>683</td>\n",
       "      <td>12</td>\n",
       "      <td>9.5</td>\n",
       "      <td>12</td>\n",
       "    </tr>\n",
       "    <tr>\n",
       "      <th>4</th>\n",
       "      <td>1637.950</td>\n",
       "      <td>151</td>\n",
       "      <td>844</td>\n",
       "      <td>151</td>\n",
       "      <td>13.0</td>\n",
       "      <td>151</td>\n",
       "    </tr>\n",
       "  </tbody>\n",
       "</table>\n",
       "</div>"
      ],
      "text/plain": [
       "             Total       Recency       Frequency      \n",
       "            median count  median count    median count\n",
       "clusters                                              \n",
       "0           54.240  5604    1783  5604       1.0  5604\n",
       "1           61.250  6215     580  6215       1.0  6215\n",
       "2          510.100   847     962   847       5.0   847\n",
       "3         7322.305    12     683    12       9.5    12\n",
       "4         1637.950   151     844   151      13.0   151"
      ]
     },
     "execution_count": 10,
     "metadata": {},
     "output_type": "execute_result"
    }
   ],
   "source": [
    "kmeans = KMeans(n_clusters=5)\n",
    "clusters = kmeans.fit_predict(df_normalized)\n",
    "df_group['clusters'] = clusters\n",
    "df_group.groupby('clusters').agg(['median', 'count'])"
   ]
  },
  {
   "cell_type": "markdown",
   "metadata": {},
   "source": [
    "The most interesting customer cluster is number 3. These are customers who often make orders and for very large sums. Also interesting is cluster 4 because it contains customers with a high frequency of orders. Customers who recently made a single order and can be attributed to the \"new customers\" got into cluster 1. In cluster 0 there are customers who made a single order for a long time.\n",
    "\n",
    "The most interesting groups:\n",
    "- 3 - the most profitable clients\n",
    "- 4 - regular customers\n",
    "- 1 - fresh customers"
   ]
  },
  {
   "cell_type": "markdown",
   "metadata": {},
   "source": [
    "Let's try another method. For work we will use data only for the last year. We will also consider how many months have passed since the last purchase and the maximum purchase price."
   ]
  },
  {
   "cell_type": "code",
   "execution_count": 11,
   "metadata": {},
   "outputs": [
    {
     "name": "stderr",
     "output_type": "stream",
     "text": [
      "c:\\users\\анастасия\\appdata\\local\\programs\\python\\python35\\lib\\site-packages\\ipykernel_launcher.py:9: SettingWithCopyWarning: \n",
      "A value is trying to be set on a copy of a slice from a DataFrame.\n",
      "Try using .loc[row_indexer,col_indexer] = value instead\n",
      "\n",
      "See the caveats in the documentation: http://pandas.pydata.org/pandas-docs/stable/indexing.html#indexing-view-versus-copy\n",
      "  if __name__ == '__main__':\n",
      "c:\\users\\анастасия\\appdata\\local\\programs\\python\\python35\\lib\\site-packages\\pandas\\core\\frame.py:3697: SettingWithCopyWarning: \n",
      "A value is trying to be set on a copy of a slice from a DataFrame\n",
      "\n",
      "See the caveats in the documentation: http://pandas.pydata.org/pandas-docs/stable/indexing.html#indexing-view-versus-copy\n",
      "  errors=errors)\n"
     ]
    }
   ],
   "source": [
    "# data preprocessing\n",
    "df = pd.read_csv(\"eshop.csv\")\n",
    "df['Date'] = pd.to_datetime(df['Date'],infer_datetime_format=True)\n",
    "df['days'] = df['Date'].apply(lambda x: (datetime.today() - x).days)\n",
    "min_date = df['days'].min()\n",
    "df['days'] = df['days'].apply(lambda x: x-min_date+1)\n",
    "df_last_year = df[df['days'] <= 365]\n",
    "last_data = df_last_year['Date'].max()\n",
    "df_last_year['month'] = df_last_year['Date'].apply(lambda x: relativedelta.relativedelta(last_data,x).months+1)\n",
    "df_last_year.drop(['Date', 'Country'], axis = 1, inplace= True)"
   ]
  },
  {
   "cell_type": "code",
   "execution_count": 12,
   "metadata": {},
   "outputs": [],
   "source": [
    "#group data and rename features\n",
    "df_group = df_last_year.groupby('Customer ID').agg({'month': lambda x: x.min(),\n",
    "                                        'Customer ID': lambda x: len(x),\n",
    "                                        'Subtotal': lambda x: x.max()})  \n",
    "df_group.rename(index=str, columns={\"month\": \"Month\", \"Customer ID\": \"Count\", \"Subtotal\": \"Max\"}, inplace= True)"
   ]
  },
  {
   "cell_type": "code",
   "execution_count": 13,
   "metadata": {},
   "outputs": [
    {
     "name": "stderr",
     "output_type": "stream",
     "text": [
      "c:\\users\\анастасия\\appdata\\local\\programs\\python\\python35\\lib\\site-packages\\sklearn\\preprocessing\\data.py:625: DataConversionWarning: Data with input dtype int64, float64 were all converted to float64 by StandardScaler.\n",
      "  return self.partial_fit(X, y)\n",
      "c:\\users\\анастасия\\appdata\\local\\programs\\python\\python35\\lib\\site-packages\\ipykernel_launcher.py:4: DataConversionWarning: Data with input dtype int64, float64 were all converted to float64 by StandardScaler.\n",
      "  after removing the cwd from sys.path.\n"
     ]
    }
   ],
   "source": [
    "#normalize data\n",
    "scaler = StandardScaler()\n",
    "scaler.fit(df_group)\n",
    "df_normalized = scaler.transform(df_group)"
   ]
  },
  {
   "cell_type": "code",
   "execution_count": 14,
   "metadata": {},
   "outputs": [],
   "source": [
    "# KMeans alg.\n",
    "k = 10\n",
    "ssd = []\n",
    "n_iter = []\n",
    "for i in range(1,k):\n",
    "    kmeans = KMeans(n_clusters=i, random_state=0)\n",
    "    kmeans.fit(df_normalized)\n",
    "    # inertia_ - sum of squared distances of samples to their closest cluster center.\n",
    "    ssd.append(kmeans.inertia_)\n",
    "    # n_iter_ - number of iterations run.\n",
    "    n_iter.append(kmeans.n_iter_)"
   ]
  },
  {
   "cell_type": "code",
   "execution_count": 15,
   "metadata": {},
   "outputs": [
    {
     "data": {
      "image/png": "[encoded data removed]",
      "text/plain": [
       "<Figure size 1080x720 with 2 Axes>"
      ]
     },
     "metadata": {
      "needs_background": "light"
     },
     "output_type": "display_data"
    }
   ],
   "source": [
    "plt.figure(figsize=(15,10))\n",
    "plt.subplot(121)\n",
    "plt.plot(range(1,k), ssd)\n",
    "plt.xlabel('Cluster number')\n",
    "plt.ylabel('Sum of squared distances')\n",
    "plt.subplot(122)\n",
    "plt.plot(range(1,k), n_iter)\n",
    "plt.xlabel('Cluster number')\n",
    "plt.ylabel('Number of iterations run')\n",
    "plt.show()"
   ]
  },
  {
   "cell_type": "code",
   "execution_count": 16,
   "metadata": {},
   "outputs": [],
   "source": [
    "kmeans = KMeans(n_clusters=5)\n",
    "clusters = kmeans.fit_predict(df_normalized)\n",
    "df_group['clusters'] = clusters"
   ]
  },
  {
   "cell_type": "code",
   "execution_count": 17,
   "metadata": {},
   "outputs": [
    {
     "data": {
      "text/html": [
       "<div>\n",
       "<style scoped>\n",
       "    .dataframe tbody tr th:only-of-type {\n",
       "        vertical-align: middle;\n",
       "    }\n",
       "\n",
       "    .dataframe tbody tr th {\n",
       "        vertical-align: top;\n",
       "    }\n",
       "\n",
       "    .dataframe thead tr th {\n",
       "        text-align: left;\n",
       "    }\n",
       "\n",
       "    .dataframe thead tr:last-of-type th {\n",
       "        text-align: right;\n",
       "    }\n",
       "</style>\n",
       "<table border=\"1\" class=\"dataframe\">\n",
       "  <thead>\n",
       "    <tr>\n",
       "      <th></th>\n",
       "      <th colspan=\"2\" halign=\"left\">Month</th>\n",
       "      <th colspan=\"2\" halign=\"left\">Max</th>\n",
       "      <th colspan=\"2\" halign=\"left\">Count</th>\n",
       "    </tr>\n",
       "    <tr>\n",
       "      <th></th>\n",
       "      <th>median</th>\n",
       "      <th>count</th>\n",
       "      <th>median</th>\n",
       "      <th>count</th>\n",
       "      <th>median</th>\n",
       "      <th>count</th>\n",
       "    </tr>\n",
       "    <tr>\n",
       "      <th>clusters</th>\n",
       "      <th></th>\n",
       "      <th></th>\n",
       "      <th></th>\n",
       "      <th></th>\n",
       "      <th></th>\n",
       "      <th></th>\n",
       "    </tr>\n",
       "  </thead>\n",
       "  <tbody>\n",
       "    <tr>\n",
       "      <th>0</th>\n",
       "      <td>9.0</td>\n",
       "      <td>1021</td>\n",
       "      <td>53.110</td>\n",
       "      <td>1021</td>\n",
       "      <td>1.0</td>\n",
       "      <td>1021</td>\n",
       "    </tr>\n",
       "    <tr>\n",
       "      <th>1</th>\n",
       "      <td>2.5</td>\n",
       "      <td>220</td>\n",
       "      <td>143.765</td>\n",
       "      <td>220</td>\n",
       "      <td>3.0</td>\n",
       "      <td>220</td>\n",
       "    </tr>\n",
       "    <tr>\n",
       "      <th>2</th>\n",
       "      <td>3.0</td>\n",
       "      <td>1247</td>\n",
       "      <td>56.950</td>\n",
       "      <td>1247</td>\n",
       "      <td>1.0</td>\n",
       "      <td>1247</td>\n",
       "    </tr>\n",
       "    <tr>\n",
       "      <th>3</th>\n",
       "      <td>1.0</td>\n",
       "      <td>39</td>\n",
       "      <td>232.490</td>\n",
       "      <td>39</td>\n",
       "      <td>7.0</td>\n",
       "      <td>39</td>\n",
       "    </tr>\n",
       "    <tr>\n",
       "      <th>4</th>\n",
       "      <td>10.0</td>\n",
       "      <td>2</td>\n",
       "      <td>6795.810</td>\n",
       "      <td>2</td>\n",
       "      <td>1.5</td>\n",
       "      <td>2</td>\n",
       "    </tr>\n",
       "  </tbody>\n",
       "</table>\n",
       "</div>"
      ],
      "text/plain": [
       "          Month             Max        Count      \n",
       "         median count    median count median count\n",
       "clusters                                          \n",
       "0           9.0  1021    53.110  1021    1.0  1021\n",
       "1           2.5   220   143.765   220    3.0   220\n",
       "2           3.0  1247    56.950  1247    1.0  1247\n",
       "3           1.0    39   232.490    39    7.0    39\n",
       "4          10.0     2  6795.810     2    1.5     2"
      ]
     },
     "execution_count": 17,
     "metadata": {},
     "output_type": "execute_result"
    }
   ],
   "source": [
    "df_group.groupby('clusters').agg(['median', 'count'])"
   ]
  },
  {
   "cell_type": "markdown",
   "metadata": {},
   "source": [
    "- Cluster 0 - Customers who rarely placed orders a long time ago\n",
    "- Cluster 1 - \"New\" customers who have already made several orders\n",
    "- Cluster 2 - Customers who rarely placed orders, but recently\n",
    "- Cluster 3 - Customers who place orders regularly\n",
    "- Cluster 4 - Customers who have made very large orders\n",
    "\n",
    "The most interesting clients are in cluster 3 (regular customers),  cluster 4 (big profit) and I think in the cluster 1, as potential regular customers\n"
   ]
  },
  {
   "cell_type": "code",
   "execution_count": null,
   "metadata": {},
   "outputs": [],
   "source": []
  }
 ],
 "metadata": {
  "kernelspec": {
   "display_name": "Python 3",
   "language": "python",
   "name": "python3"
  },
  "language_info": {
   "codemirror_mode": {
    "name": "ipython",
    "version": 3
   },
   "file_extension": ".py",
   "mimetype": "text/x-python",
   "name": "python",
   "nbconvert_exporter": "python",
   "pygments_lexer": "ipython3",
   "version": "3.5.2"
  }
 },
 "nbformat": 4,
 "nbformat_minor": 2
}

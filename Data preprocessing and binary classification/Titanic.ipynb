{
 "cells": [
  {
   "cell_type": "code",
   "execution_count": 1,
   "metadata": {},
   "outputs": [],
   "source": [
    "import matplotlib.pyplot as plt\n",
    "import seaborn as sns\n",
    "import numpy as np\n",
    "import pandas as pd"
   ]
  },
  {
   "cell_type": "code",
   "execution_count": 2,
   "metadata": {},
   "outputs": [],
   "source": [
    "from sklearn.feature_selection import SelectKBest, f_classif"
   ]
  },
  {
   "cell_type": "code",
   "execution_count": 3,
   "metadata": {},
   "outputs": [],
   "source": [
    "from sklearn.preprocessing import LabelEncoder\n",
    "from sklearn.preprocessing import StandardScaler\n",
    "from sklearn.neighbors import KNeighborsClassifier\n",
    "from sklearn.model_selection import cross_val_score\n",
    "from sklearn.model_selection import GridSearchCV\n",
    "from sklearn.svm import SVC\n",
    "from sklearn.linear_model import LogisticRegression\n",
    "from sklearn import tree"
   ]
  },
  {
   "cell_type": "markdown",
   "metadata": {},
   "source": [
    "Let's check how many missing values has our dataset per feature."
   ]
  },
  {
   "cell_type": "code",
   "execution_count": 4,
   "metadata": {},
   "outputs": [
    {
     "data": {
      "text/plain": [
       "ID             0\n",
       "survived       0\n",
       "pclass         0\n",
       "name           0\n",
       "sex            0\n",
       "age          204\n",
       "sibsp          0\n",
       "parch          0\n",
       "ticket         0\n",
       "fare           1\n",
       "cabin        771\n",
       "embarked       1\n",
       "home.dest    425\n",
       "dtype: int64"
      ]
     },
     "execution_count": 4,
     "metadata": {},
     "output_type": "execute_result"
    }
   ],
   "source": [
    "df = pd.read_csv(\"data.csv\")\n",
    "df.isnull().sum()"
   ]
  },
  {
   "cell_type": "markdown",
   "metadata": {},
   "source": [
    "There are more than 50% missing values in 'Cabin' and let's delete this feature. Also, we could delete 'home.dest'.\n",
    "We have to do something about the NaN values in the Age column. We can replace them with the mean of the age, but that would mean that some kid (Master or Miss) would appear to be older than they are. So we will take the mean of the age from each Title, and then replace each NaN value with the mean of the age of the corresponding persons title. Also, I assumed that the average male age depends on the class of the cabin (older menusually have more wealth)\n",
    "\n",
    "\n",
    "**note:**\n",
    "Master is an English honorific for boys and young men (<12).\n",
    "https://en.wikipedia.org/wiki/Master_(form_of_address)"
   ]
  },
  {
   "cell_type": "code",
   "execution_count": 5,
   "metadata": {},
   "outputs": [
    {
     "name": "stdout",
     "output_type": "stream",
     "text": [
      "The mediane age for Miss:22.0, Mrs.:35.0\n",
      "For Mr. min age: 11.0, max age: 80.0\n",
      "Mr. median age depending on the class:\n",
      "pclass\n",
      "1    42.0\n",
      "2    30.0\n",
      "3    27.0\n",
      "Name: age, dtype: float64\n"
     ]
    }
   ],
   "source": [
    "#extract median value for females\n",
    "age_median_miss = df[df['name'].str.contains(\"Miss.\")]['age'].median()\n",
    "age_median_mrs = df[df['name'].str.contains(\"Mrs.\")]['age'].median()\n",
    "print(\"The mediane age for Miss:{0}, Mrs.:{1}\".format(age_median_miss, \\\n",
    "                                                               age_median_mrs))\n",
    "#extract median value for males\n",
    "print(\"For Mr. min age: {0}, max age: {1}\".format(df[df['name'].str.contains(\"Mr.\")]['age'].min(), \\\n",
    "                                                 df[df['name'].str.contains(\"Mr.\")]['age'].max()))\n",
    "male_age = df[df['name'].str.contains(\"Mr.\")].groupby(['pclass'])['age'].median()\n",
    "print('Mr. median age depending on the class:')\n",
    "print(male_age)\n",
    "\n",
    "fares = df.groupby(\"pclass\")[\"fare\"].median()\n",
    "embarked_f = df['embarked'].mode()"
   ]
  },
  {
   "cell_type": "markdown",
   "metadata": {},
   "source": [
    "Other fields we will replace with median value or most frequent value."
   ]
  },
  {
   "cell_type": "code",
   "execution_count": 6,
   "metadata": {},
   "outputs": [],
   "source": [
    "def preprocessing(df):\n",
    "    #replacement with the most frequent\n",
    "    df['embarked'].mask(df['embarked'].isnull(), df['embarked'].fillna(embarked_f), inplace = True)\n",
    "    #there may be errors in the data, replace them with the most frequent\n",
    "    df['embarked'].mask(~df['embarked'].isin(['S', 'C', 'Q']), df['embarked'].fillna(embarked_f), inplace = True)\n",
    "\n",
    "    df['fare'] = df.apply(lambda x: fares[x[\"pclass\"]] if pd.isnull(x[\"fare\"]) else x['fare'], axis=1)\n",
    "\n",
    "    #extract ticket number as a digit\n",
    "    df['ticket'] = df['ticket'].str.findall(r'(\\d{2,})').str[-1]\n",
    "    df['ticket'].mask(df['ticket'].isnull(), df['ticket'].fillna(0), inplace = True)\n",
    "    #create bins for age\n",
    "    bins = [0, 5, 10, 20, 30, 40, 50, 60, 70, 100]\n",
    "    labels = [1, 2, 3, 4, 5, 6, 7, 8, 9]\n",
    "    df['age'] = pd.cut(df['age'], bins=bins, labels=labels)\n",
    "    ##one hot encoding\n",
    "    df = pd.get_dummies(df, columns=['pclass', 'age', 'sex', 'embarked'])\n",
    "    df_drop = df.drop(['cabin', 'home.dest', 'ID', 'name'], axis=1)\n",
    "    return df_drop"
   ]
  },
  {
   "cell_type": "code",
   "execution_count": 7,
   "metadata": {},
   "outputs": [],
   "source": [
    "df_drop = preprocessing(df)\n",
    "target = df_drop['survived']\n",
    "train = df_drop.drop(['survived'], axis=1)"
   ]
  },
  {
   "cell_type": "code",
   "execution_count": 8,
   "metadata": {},
   "outputs": [
    {
     "data": {
      "image/png": "[encoded data removed]",
      "text/plain": [
       "<Figure size 432x288 with 1 Axes>"
      ]
     },
     "metadata": {
      "needs_background": "light"
     },
     "output_type": "display_data"
    }
   ],
   "source": [
    "from sklearn.feature_selection import SelectKBest\n",
    "predictors = list(train.columns.values)\n",
    "selector = SelectKBest(f_classif, k=5)\n",
    "selector.fit(train, target)\n",
    "\n",
    "scores = -np.log10(selector.pvalues_)\n",
    "\n",
    "plt.bar(range(len(predictors)), scores)\n",
    "plt.xticks(range(len(predictors)), predictors, rotation='vertical')\n",
    "plt.show()"
   ]
  },
  {
   "cell_type": "markdown",
   "metadata": {},
   "source": [
    "The target variable is most affected by gender. Also, the chances of survival for youngsters and first class are higher.\n",
    "\n",
    "Let's check these assumptions on the charts"
   ]
  },
  {
   "cell_type": "code",
   "execution_count": 9,
   "metadata": {},
   "outputs": [
    {
     "data": {
      "text/plain": [
       "<matplotlib.axes._subplots.AxesSubplot at 0x22f0ee0bc18>"
      ]
     },
     "execution_count": 9,
     "metadata": {},
     "output_type": "execute_result"
    },
    {
     "data": {
      "image/png": "[encoded data removed]",
      "text/plain": [
       "<Figure size 432x288 with 1 Axes>"
      ]
     },
     "metadata": {
      "needs_background": "light"
     },
     "output_type": "display_data"
    }
   ],
   "source": [
    "df.pivot_table('ID', 'pclass', 'survived', 'count').plot(kind='bar', stacked=True)"
   ]
  },
  {
   "cell_type": "code",
   "execution_count": 10,
   "metadata": {},
   "outputs": [
    {
     "data": {
      "text/plain": [
       "<matplotlib.axes._subplots.AxesSubplot at 0x22f10eccda0>"
      ]
     },
     "execution_count": 10,
     "metadata": {},
     "output_type": "execute_result"
    },
    {
     "data": {
      "image/png": "[encoded data removed]",
      "text/plain": [
       "<Figure size 432x288 with 1 Axes>"
      ]
     },
     "metadata": {
      "needs_background": "light"
     },
     "output_type": "display_data"
    }
   ],
   "source": [
    "df.pivot_table('ID', 'sex', 'survived', 'count').plot(kind='bar', stacked=True)"
   ]
  },
  {
   "cell_type": "code",
   "execution_count": 11,
   "metadata": {},
   "outputs": [
    {
     "name": "stderr",
     "output_type": "stream",
     "text": [
      "c:\\users\\анастасия\\appdata\\local\\programs\\python\\python35\\lib\\site-packages\\sklearn\\preprocessing\\data.py:625: DataConversionWarning: Data with input dtype uint8, int64, float64, object were all converted to float64 by StandardScaler.\n",
      "  return self.partial_fit(X, y)\n",
      "c:\\users\\анастасия\\appdata\\local\\programs\\python\\python35\\lib\\site-packages\\ipykernel_launcher.py:4: DataConversionWarning: Data with input dtype uint8, int64, float64, object were all converted to float64 by StandardScaler.\n",
      "  after removing the cwd from sys.path.\n"
     ]
    }
   ],
   "source": [
    "# data normalization using StandardScaler\n",
    "scaler = StandardScaler()\n",
    "scaler.fit(train)\n",
    "train_scale = scaler.transform(train)"
   ]
  },
  {
   "cell_type": "code",
   "execution_count": 23,
   "metadata": {},
   "outputs": [],
   "source": [
    "train_scale[0][0] = np.nan"
   ]
  },
  {
   "cell_type": "markdown",
   "metadata": {},
   "source": [
    "To search for the best hyperparameters for models use the gridSearch.\n",
    "cv : cross-validation generator or an iterable"
   ]
  },
  {
   "cell_type": "code",
   "execution_count": 13,
   "metadata": {},
   "outputs": [
    {
     "name": "stdout",
     "output_type": "stream",
     "text": [
      "k-neighbors: best score- 0.8, best params- {'n_neighbors': 8}\n"
     ]
    }
   ],
   "source": [
    "# Knn with the search for the optimal number of neighbors.\n",
    "parameters = {'n_neighbors':range(1,10)}\n",
    "knn = GridSearchCV(KNeighborsClassifier(), parameters, cv=10, n_jobs=-1)\n",
    "knn.fit(train_scale, target)\n",
    "knn_model = knn.best_estimator_\n",
    "print(\"k-neighbors: best score- {}, best params- {}\".format(knn.best_score_, knn.best_params_))"
   ]
  },
  {
   "cell_type": "code",
   "execution_count": 19,
   "metadata": {},
   "outputs": [
    {
     "name": "stdout",
     "output_type": "stream",
     "text": [
      "SVM: best score- 0.812, best params- {'kernel': 'poly'}\n"
     ]
    }
   ],
   "source": [
    "# C-Support Vector Classification with different kernels\n",
    "from sklearn.svm import SVC\n",
    "parameters = {'kernel':['linear', 'rbf', 'poly']}\n",
    "alg_svm = GridSearchCV(SVC(), parameters, cv=10, n_jobs=-1)\n",
    "alg_svm.fit(train_scale, target)\n",
    "svm_model = alg_svm.best_estimator_\n",
    "print(\"SVM: best score- {}, best params- {}\".format(alg_svm.best_score_, alg_svm.best_params_))"
   ]
  },
  {
   "cell_type": "code",
   "execution_count": 20,
   "metadata": {},
   "outputs": [
    {
     "name": "stdout",
     "output_type": "stream",
     "text": [
      "Random forest: best score- 0.821, best params- {'n_estimators': 30, 'max_depth': 6}\n"
     ]
    }
   ],
   "source": [
    "#Random forest with the selection of the optimal number of trees and tree depth.\n",
    "from sklearn.ensemble import RandomForestClassifier\n",
    "parameters = [{\n",
    "    'max_depth': range(2,10),\n",
    "    \"n_estimators\": [10, 30, 60, 100, 250, 500],\n",
    "#   \"min_samples_split\": [4, 6, 8, 10],\n",
    "#   \"min_samples_leaf\": [1, 2, 4]\n",
    "}]\n",
    "rf = GridSearchCV(RandomForestClassifier(), parameters, cv=5, n_jobs=-1)\n",
    "rf.fit(train_scale, target)\n",
    "rf_model = rf.best_estimator_\n",
    "print(\"Random forest: best score- {}, best params- {}\".format(rf.best_score_, rf.best_params_))"
   ]
  },
  {
   "cell_type": "code",
   "execution_count": 21,
   "metadata": {},
   "outputs": [
    {
     "name": "stdout",
     "output_type": "stream",
     "text": [
      "Accuracy (logistic regression): 0.8040059005900592/0.0417209153398989\n"
     ]
    },
    {
     "name": "stderr",
     "output_type": "stream",
     "text": [
      "c:\\users\\анастасия\\appdata\\local\\programs\\python\\python35\\lib\\site-packages\\sklearn\\linear_model\\logistic.py:433: FutureWarning: Default solver will be changed to 'lbfgs' in 0.22. Specify a solver to silence this warning.\n",
      "  FutureWarning)\n"
     ]
    },
    {
     "data": {
      "text/plain": [
       "LogisticRegression(C=1.0, class_weight=None, dual=False, fit_intercept=True,\n",
       "          intercept_scaling=1, max_iter=100, multi_class='warn',\n",
       "          n_jobs=None, penalty='l2', random_state=1, solver='warn',\n",
       "          tol=0.0001, verbose=0, warm_start=False)"
      ]
     },
     "execution_count": 21,
     "metadata": {},
     "output_type": "execute_result"
    }
   ],
   "source": [
    "# Logistic regression without params :)\n",
    "alg_log = LogisticRegression(random_state=1)\n",
    "scores = cross_val_score(alg_log, train_scale, target, cv=10, n_jobs=-1,)\n",
    "print(\"Accuracy (logistic regression): {}/{}\".format(scores.mean(), scores.std()))\n",
    "alg_log.fit(train_scale, target)"
   ]
  },
  {
   "cell_type": "code",
   "execution_count": 22,
   "metadata": {},
   "outputs": [
    {
     "name": "stderr",
     "output_type": "stream",
     "text": [
      "c:\\users\\анастасия\\appdata\\local\\programs\\python\\python35\\lib\\site-packages\\ipykernel_launcher.py:3: DataConversionWarning: Data with input dtype uint8, int64, float64, object were all converted to float64 by StandardScaler.\n",
      "  This is separate from the ipykernel package so we can avoid doing imports until\n"
     ]
    }
   ],
   "source": [
    "# load data for validation and preprocessing\n",
    "evaluation_data = pd.read_csv(\"evaluation.csv\")\n",
    "eval_preproc = preprocessing(evaluation_data)\n",
    "eval_scale = scaler.transform(eval_preproc)"
   ]
  },
  {
   "cell_type": "code",
   "execution_count": 23,
   "metadata": {},
   "outputs": [],
   "source": [
    "y_dec_tree = dt_model.predict(eval_scale)\n",
    "y_pred_knc = knn_model.predict(eval_scale)  \n",
    "y_pred_rf = rf_model.predict(eval_scale)  \n",
    "y_pred_svm = svm_model.predict(eval_scale)  \n",
    "y_alg_log = alg_log.predict(eval_scale) "
   ]
  },
  {
   "cell_type": "code",
   "execution_count": 24,
   "metadata": {},
   "outputs": [],
   "source": [
    "#save to file\n",
    "np.savetxt('results_knn.csv',y_alg_log, delimiter=',', fmt ='%.0f')\n",
    "np.savetxt('results_svm.csv',y_pred_svm, delimiter=',', fmt ='%.0f')\n",
    "np.savetxt('results_random_forest.csv',y_pred_rf, delimiter=',', fmt ='%.0f')\n",
    "np.savetxt('results_logReg.csv',y_alg_log, delimiter=',', fmt ='%.0f')"
   ]
  },
  {
   "cell_type": "code",
   "execution_count": null,
   "metadata": {},
   "outputs": [],
   "source": [
    "X_"
   ]
  }
 ],
 "metadata": {
  "kernelspec": {
   "display_name": "Python 3",
   "language": "python",
   "name": "python3"
  },
  "language_info": {
   "codemirror_mode": {
    "name": "ipython",
    "version": 3
   },
   "file_extension": ".py",
   "mimetype": "text/x-python",
   "name": "python",
   "nbconvert_exporter": "python",
   "pygments_lexer": "ipython3",
   "version": "3.5.2"
  }
 },
 "nbformat": 4,
 "nbformat_minor": 2
}

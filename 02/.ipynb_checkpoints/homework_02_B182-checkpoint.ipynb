{
 "cells": [
  {
   "cell_type": "markdown",
   "metadata": {},
   "source": [
    "# Úkol č. 2 - Segmentace zákazníků e-shopu\n",
    "\n",
    "Jednou z důležitých aplikací shlukování je **segmentace zákazníků** (angl. **customer segmentation**). \n",
    "\n",
    "Předpokládejme, že máme následující obchodní údaje o prodejích (resp. nákupech z pohledu zákazníků):\n",
    "TransactionID - ID nákupu,\n",
    "CustomerID - ID zákazníka, \n",
    "Date - datum nákupu, \n",
    "Total - celková cena nákupu.\n",
    "\n",
    "Chceme najít segmenty zákazníků, kteří se chovají podobně. K tomu je dobré informace z jednotlivých nákupů pro individuální zákazníky agregovat. Tj. získat pro každého zákazníka jeden řádek.\n",
    "\n",
    "Populárním přístupem je **RFM**, což znamená:\n",
    "\n",
    "- **R**ecency: Počet dnů od posledního nákupu (poslední datum v datasetu pro daného zákazníka)\n",
    "- **F**requency: Počet nákupů. Občas se vynechávají zákazníci s jediným nákupem. Pro jednoduchost je zde ale necháme.\n",
    "- **M**onetary: Celková suma, kterou daný zákazník utratil.\n",
    "\n",
    "## Zdroj dat\n",
    "Budeme pracovat s daty z jednoho (skoro) vymyšleného eshopu:"
   ]
  },
  {
   "cell_type": "code",
   "execution_count": null,
   "metadata": {},
   "outputs": [],
   "source": [
    "import pandas as pd\n",
    "import numpy as np\n",
    "import matplotlib.pyplot as plt"
   ]
  },
  {
   "cell_type": "code",
   "execution_count": null,
   "metadata": {},
   "outputs": [],
   "source": [
    "df = pd.read_csv(\"eshop.csv\")"
   ]
  },
  {
   "cell_type": "code",
   "execution_count": null,
   "metadata": {},
   "outputs": [],
   "source": [
    "df.head()"
   ]
  },
  {
   "cell_type": "markdown",
   "metadata": {},
   "source": [
    "## Pokyny k vypracování\n",
    "\n",
    "**Základní body zadání**, za jejichž (poctivé) vypracování získáte **10 bodů**:\n",
    "- Vytvořte `rfm` data frame, kde každý řádek odpovídá jednomu zákazníkovi a sloupce (příznaky) jsou uvedené výše.\n",
    "- Pomocí algoritmu `K-means` proveďte shlukování. Nějakým způsobem také odhadněte nejlepší počet shluků (podrobně vysvětlete).\n",
    "- Zabývejte se vlivem přeškálování dat (standardizace příznaků). Tj. určete, zda je přeškálování vhodné, a proveďte ho.\n",
    "- Interpretujte jednotlivé shluky. Použijte získané shluky k odlišení \"superstar\" zákazníků (vysoká monetary, vysoká frequency a nízká recency) od nezajímavých  zákazníků (vysoká recency, nízká frequency, nízká monetary).\n",
    "\n",
    "**Další body zadání** za případné další body  (můžete si vybrat, maximum bodů za úkol je každopádně 15 bodů):\n",
    "- (až +5 bodů) Proveďte analýzu vytvořených shluků pomocí metody silhouette (https://en.wikipedia.org/wiki/Silhouette_(clustering)).\n",
    "- (až +5 bodů) Zkuste provést to samé s modifikovanou verzí **RFM**, kde Recency = \"maximum počtu měsíců od posledního nákupu a čísla 1\", Frequency = \"maximum počtu nákupů daného zákazníka v posledních 12 měsících (vztaženo k prosinci 2015) a čísla 1\", Monetary = \"Nejvyšší hodnota nákupu daného zákazníka\". Porovnejte s původním přístupem.\n",
    "\n",
    "## Poznámky k odevzdání\n",
    "\n",
    "  * Řiďte se pokyny ze stránky https://courses.fit.cvut.cz/MI-PDM/homeworks/index.html.\n",
    "  * Odevzdejte Jupyter Notebook.\n",
    "  * Opravující Vám může umožnit úkol dodělat či opravit a získat tak další body. První verze je ale důležitá a bude-li odbytá, budete za to penalizováni\n"
   ]
  },
  {
   "cell_type": "code",
   "execution_count": null,
   "metadata": {},
   "outputs": [],
   "source": []
  }
 ],
 "metadata": {
  "kernelspec": {
   "display_name": "Python 3",
   "language": "python",
   "name": "python3"
  },
  "language_info": {
   "codemirror_mode": {
    "name": "ipython",
    "version": 3
   },
   "file_extension": ".py",
   "mimetype": "text/x-python",
   "name": "python",
   "nbconvert_exporter": "python",
   "pygments_lexer": "ipython3",
   "version": "3.5.2"
  }
 },
 "nbformat": 4,
 "nbformat_minor": 2
}

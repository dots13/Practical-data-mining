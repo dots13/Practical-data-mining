{
 "cells": [
  {
   "cell_type": "markdown",
   "metadata": {},
   "source": [
    "# Úkol č. 1 - vizualizace dat a web scraping\n",
    "\n",
    "  * V rámci tohoto úkolu musíte opanovat nástroje pro stahování dat z webu (tzv. _web scraping_) a následně data zpracovat a vizualizovat. \n",
    "  * Vaším úkolem bude stáhnout a zpracovat data týkající se kandidátů v minulých volbách do Evropského parlamentu.\n",
    "  \n",
    "> **Úkoly jsou zadány tak, aby Vám daly prostor pro invenci. Vymyslet _jak přesně_ budete úkol řešit, je důležitou součástí zadání a originalita či nápaditost bude také hodnocena!**\n",
    "\n",
    "## Zdroje dat\n",
    "\n",
    "  * Primárním zdrojem dat je tato tabulka: https://volby.cz/pls/ep2014/ep2111?xjazyk=CZ&xv=1&xt=2&xstrana=0\n",
    "\n",
    "## Pokyny k vypracování\n",
    "\n",
    "**Základní body zadání**, za jejichž (poctivé) vypracování získáte **10 bodů**:\n",
    "  * Stáhněte data z výše uvedeného a uložte je do tabulky ve formátu _csv_.\n",
    "  * S využitím vybraných nástrojů zpracujte data a vymyslete vizualizace a grafy, aby bylo vidět následující:\n",
    "    * Věkovou skladbu kandidátů a kandidátek jednotlivých stran.\n",
    "    * Vzdělanostní skladbu kadidátů a kadidátek jednotlivých stran: pokuste se z titulů odhadnout \n",
    "    * Žebříčky nejůspěšňějších kandidátů a kandidátek (zaměřte se na preferenční hlasy a nějak zvažte jejich váhu vzhledem k počtu hlasů strany samotné).\n",
    "    * Pokuste se odhadnout počty žen kandidujících za jednotlivé strany.\n",
    "\n",
    "**Další body zadání** za případné další body (můžete si vybrat, maximum bodů za úkol je každopádně 15 bodů):\n",
    "  * (až +4 body) Najděte nějaký nástroj, který Vám umožní do notebooku přidat nějaké interaktivní prvky (např. si uživatel vybere ze seznamu stranu a notebook automaticky zobrazí vizualizace pouze vybraných kandidátů)\n",
    "  * (až +4 body) Zpracujte i data z předešlých voleb do EP z roku 2009 a identifikujte kandidáty a kandidátky, kteří kandidovaly v obou volbách. I toto zkuste nějak rozumně vizualizovat.\n",
    "  \n",
    "## Poznámky k odevzdání\n",
    "\n",
    "  * Řiďte se pokyny ze stránky https://courses.fit.cvut.cz/MI-PDM/homeworks/index.html.\n",
    "  * Opravující Vám může umožnit úkol dodělat či opravit a získat tak další body. První verze je ale důležitá a bude-li odbytá, budete za to penalizováni."
   ]
  },
  {
   "cell_type": "code",
   "execution_count": null,
   "metadata": {},
   "outputs": [],
   "source": [
    "### odtud už je to Vaše"
   ]
  }
 ],
 "metadata": {
  "kernelspec": {
   "display_name": "Python 3",
   "language": "python",
   "name": "python3"
  },
  "language_info": {
   "codemirror_mode": {
    "name": "ipython",
    "version": 3
   },
   "file_extension": ".py",
   "mimetype": "text/x-python",
   "name": "python",
   "nbconvert_exporter": "python",
   "pygments_lexer": "ipython3",
   "version": "3.5.2"
  }
 },
 "nbformat": 4,
 "nbformat_minor": 2
}
